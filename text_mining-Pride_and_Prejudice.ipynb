{
 "cells": [
  {
   "cell_type": "markdown",
   "metadata": {},
   "source": [
    "### Text mining for Pride and Prejudice of Jane Austen"
   ]
  },
  {
   "cell_type": "code",
   "execution_count": 1,
   "metadata": {},
   "outputs": [],
   "source": [
    "%matplotlib inline"
   ]
  },
  {
   "cell_type": "code",
   "execution_count": 2,
   "metadata": {},
   "outputs": [],
   "source": [
    "import re   # for regular expressions"
   ]
  },
  {
   "cell_type": "code",
   "execution_count": 3,
   "metadata": {},
   "outputs": [],
   "source": [
    "with open(\"pride_and_prejudice.txt\", \"r\", encoding = 'utf-8') as f:\n",
    "    # Read pride and prejudice into memory\n",
    "    text = f.read()"
   ]
  },
  {
   "cell_type": "code",
   "execution_count": 4,
   "metadata": {},
   "outputs": [],
   "source": [
    "# Split the text into words\n",
    "word_list = text.split()"
   ]
  },
  {
   "cell_type": "code",
   "execution_count": 5,
   "metadata": {},
   "outputs": [],
   "source": [
    "word_len = len(word_list)"
   ]
  },
  {
   "cell_type": "code",
   "execution_count": 6,
   "metadata": {},
   "outputs": [
    {
     "data": {
      "text/plain": [
       "'There are 124592 words in P & P(before cleaning)'"
      ]
     },
     "execution_count": 6,
     "metadata": {},
     "output_type": "execute_result"
    }
   ],
   "source": [
    "# Count the number of words in the text\n",
    "\"There are %d words in P & P(before cleaning)\" % word_len"
   ]
  },
  {
   "cell_type": "code",
   "execution_count": 7,
   "metadata": {},
   "outputs": [],
   "source": [
    "# Create a list of the badly formed words in P&P\n",
    "dirty_words = []\n",
    "for word in word_list:\n",
    "    if not re.search('[A-z]', word):\n",
    "        dirty_words.append(word.lower())"
   ]
  },
  {
   "cell_type": "code",
   "execution_count": 8,
   "metadata": {},
   "outputs": [],
   "source": [
    "# Keep all the words containing only at least one letter\n",
    "words = [word.lower() for word in word_list if re.search('[A-z]', word)]"
   ]
  },
  {
   "cell_type": "code",
   "execution_count": 9,
   "metadata": {},
   "outputs": [],
   "source": [
    "# Remove any non-letter characters from each word (e.g. punctuation etc)\n",
    "words = [re.sub('[^A-z]', '', word) for word in words]"
   ]
  },
  {
   "cell_type": "code",
   "execution_count": 10,
   "metadata": {},
   "outputs": [
    {
     "data": {
      "text/plain": [
       "'There are 124450 words in P & P'"
      ]
     },
     "execution_count": 10,
     "metadata": {},
     "output_type": "execute_result"
    }
   ],
   "source": [
    "# Count the words post-cleaning\n",
    "\"There are %d words in P & P\" % len(words)"
   ]
  },
  {
   "cell_type": "markdown",
   "metadata": {},
   "source": [
    "## Word counts"
   ]
  },
  {
   "cell_type": "markdown",
   "metadata": {},
   "source": [
    "We want to count the number of occurences for each word in the collected works of Jane Austen."
   ]
  },
  {
   "cell_type": "code",
   "execution_count": 11,
   "metadata": {},
   "outputs": [
    {
     "name": "stderr",
     "output_type": "stream",
     "text": [
      "[nltk_data] Downloading package stopwords to /root/nltk_data...\n",
      "[nltk_data]   Package stopwords is already up-to-date!\n"
     ]
    },
    {
     "data": {
      "text/plain": [
       "True"
      ]
     },
     "execution_count": 11,
     "metadata": {},
     "output_type": "execute_result"
    }
   ],
   "source": [
    "import nltk\n",
    "nltk.download('stopwords')"
   ]
  },
  {
   "cell_type": "code",
   "execution_count": 12,
   "metadata": {},
   "outputs": [],
   "source": [
    "from nltk.corpus import stopwords\n",
    "# Create a stopwords list\n",
    "stop_words = [re.sub('[^a-z]', '', word) for word in stopwords.words('english')]"
   ]
  },
  {
   "cell_type": "code",
   "execution_count": 13,
   "metadata": {},
   "outputs": [],
   "source": [
    "# Add some extra stopwords to the list\n",
    "stop_words += ['mr', 'could','would','mrs']"
   ]
  },
  {
   "cell_type": "markdown",
   "metadata": {},
   "source": [
    "Later in the notebook, we replace this code with a single pandas command. But this is a good example of how to use looping with dictionaries to achieve a result."
   ]
  },
  {
   "cell_type": "code",
   "execution_count": 14,
   "metadata": {},
   "outputs": [],
   "source": [
    "word_counts = {}\n",
    "for word in words:\n",
    "    if word in stop_words:\n",
    "        continue\n",
    "    try:\n",
    "        word_counts[word] += 1\n",
    "    except KeyError:\n",
    "        word_counts[word] = 1"
   ]
  },
  {
   "cell_type": "code",
   "execution_count": 15,
   "metadata": {},
   "outputs": [],
   "source": [
    "import pandas as pd"
   ]
  },
  {
   "cell_type": "code",
   "execution_count": 16,
   "metadata": {},
   "outputs": [
    {
     "data": {
      "text/plain": [
       "<matplotlib.axes._subplots.AxesSubplot at 0x7f772b3a7d68>"
      ]
     },
     "execution_count": 16,
     "metadata": {},
     "output_type": "execute_result"
    },
    {
     "data": {
      "image/png": "[encoded data removed]",
      "text/plain": [
       "<Figure size 432x288 with 1 Axes>"
      ]
     },
     "metadata": {
      "needs_background": "light"
     },
     "output_type": "display_data"
    }
   ],
   "source": [
    "# Use pandas to produce bar plot easily\n",
    "(pd.Series(word_counts).sort_values().tail(20).plot(kind = 'barh', title = 'Top 20 common words in P & P Jane Austen'))"
   ]
  },
  {
   "cell_type": "markdown",
   "metadata": {},
   "source": [
    "# Exploring P&P using Spacy"
   ]
  },
  {
   "cell_type": "markdown",
   "metadata": {},
   "source": [
    "`spacy` is a python package for doing text mining using machine learning. It has a lot of awesome functionality, and is documented at https://spacy.io"
   ]
  },
  {
   "cell_type": "code",
   "execution_count": 17,
   "metadata": {},
   "outputs": [],
   "source": [
    "import spacy"
   ]
  },
  {
   "cell_type": "code",
   "execution_count": 18,
   "metadata": {},
   "outputs": [
    {
     "name": "stdout",
     "output_type": "stream",
     "text": [
      "Requirement already satisfied: en_core_web_sm==2.1.0 from https://github.com/explosion/spacy-models/releases/download/en_core_web_sm-2.1.0/en_core_web_sm-2.1.0.tar.gz#egg=en_core_web_sm==2.1.0 in /usr/local/lib/python3.6/dist-packages\n",
      "\u001b[38;5;2m[+] Download and installation successful\u001b[0m\n",
      "You can now load the model via spacy.load('en_core_web_sm')\n"
     ]
    }
   ],
   "source": [
    "# Install the small model if it doesn't exist already:\n",
    "! python3 -m spacy download en_core_web_sm"
   ]
  },
  {
   "cell_type": "markdown",
   "metadata": {},
   "source": [
    "## Simple example"
   ]
  },
  {
   "cell_type": "markdown",
   "metadata": {},
   "source": [
    "We'll start by running through the example on https://spacy.io"
   ]
  },
  {
   "cell_type": "code",
   "execution_count": 19,
   "metadata": {},
   "outputs": [],
   "source": [
    "# Load the small model\n",
    "nlp = spacy.load(\"en_core_web_sm\")"
   ]
  },
  {
   "cell_type": "markdown",
   "metadata": {},
   "source": [
    "`spacy` works by converting raw python strings into special `spacy.tokens.doc.Doc` objects (shown below). Running the raw text through the `nlp` function is the first thing you do when working with spacy. \n",
    "\n",
    "Note we don't want to clean the text before using `nlp`, because spacy is aware of punctuation and uses it to parse the grammar (called part-of-speech tagging) of the words in the text."
   ]
  },
  {
   "cell_type": "code",
   "execution_count": 20,
   "metadata": {},
   "outputs": [],
   "source": [
    "# Convert strings to nlp objects using the nlp function\n",
    "doc = nlp(\"Why don't the cars turn yellow... Said, Mr Brown\")"
   ]
  },
  {
   "cell_type": "code",
   "execution_count": 21,
   "metadata": {},
   "outputs": [
    {
     "data": {
      "text/plain": [
       "Why don't the cars turn yellow... Said, Mr Brown"
      ]
     },
     "execution_count": 21,
     "metadata": {},
     "output_type": "execute_result"
    }
   ],
   "source": [
    "# Shows as text below, but actually this is not a string\n",
    "doc"
   ]
  },
  {
   "cell_type": "code",
   "execution_count": 22,
   "metadata": {},
   "outputs": [
    {
     "data": {
      "text/plain": [
       "spacy.tokens.doc.Doc"
      ]
     },
     "execution_count": 22,
     "metadata": {},
     "output_type": "execute_result"
    }
   ],
   "source": [
    "type(doc)  # this is not a string"
   ]
  },
  {
   "cell_type": "markdown",
   "metadata": {},
   "source": [
    "`spacy` will split your text into words for free (shown below). This is called `tokenization`."
   ]
  },
  {
   "cell_type": "code",
   "execution_count": 23,
   "metadata": {},
   "outputs": [
    {
     "name": "stdout",
     "output_type": "stream",
     "text": [
      "Why\n",
      "do\n",
      "n't\n",
      "the\n",
      "cars\n",
      "turn\n",
      "yellow\n",
      "...\n",
      "Said\n",
      ",\n",
      "Mr\n",
      "Brown\n"
     ]
    }
   ],
   "source": [
    "# Free tokenization\n",
    "for word in doc:\n",
    "    print(word)"
   ]
  },
  {
   "cell_type": "code",
   "execution_count": 24,
   "metadata": {},
   "outputs": [
    {
     "name": "stdout",
     "output_type": "stream",
     "text": [
      "Noun phrases: ['the cars']\n"
     ]
    }
   ],
   "source": [
    "print(\"Noun phrases:\", [chunk.text for chunk in doc.noun_chunks])"
   ]
  },
  {
   "cell_type": "code",
   "execution_count": 25,
   "metadata": {},
   "outputs": [
    {
     "name": "stdout",
     "output_type": "stream",
     "text": [
      "Verbs: ['do', 'turn', 'say']\n"
     ]
    }
   ],
   "source": [
    "print(\"Verbs:\", [token.lemma_ for token in doc if token.pos_ == \"VERB\"])"
   ]
  },
  {
   "cell_type": "markdown",
   "metadata": {},
   "source": [
    "## Analysing P&P using spacy"
   ]
  },
  {
   "cell_type": "markdown",
   "metadata": {},
   "source": [
    "Now that we've gone through the basics, we can show how `spacy` works with some real text:"
   ]
  },
  {
   "cell_type": "code",
   "execution_count": 26,
   "metadata": {},
   "outputs": [],
   "source": [
    "# Convert the raw text to a doc object\n",
    "austen_text = nlp(text)"
   ]
  },
  {
   "cell_type": "code",
   "execution_count": 27,
   "metadata": {},
   "outputs": [],
   "source": [
    "# This is a helper function for selecting a slice of a list\n",
    "from itertools import islice"
   ]
  },
  {
   "cell_type": "markdown",
   "metadata": {},
   "source": [
    "You can also use `spacy` to split a document into sentences by iterating on the `austen_text.sents` object. `spacy` splits sentences intelligently, just as it does with words."
   ]
  },
  {
   "cell_type": "code",
   "execution_count": 28,
   "metadata": {},
   "outputs": [
    {
     "name": "stdout",
     "output_type": "stream",
     "text": [
      "Sentence 0:\n",
      "She was a woman of mean understanding,\n",
      "little information, and uncertain temper.\n",
      "\n",
      "----------\n",
      "\n",
      "Sentence 1:\n",
      "When she was discontented,\n",
      "she fancied herself nervous.\n",
      "\n",
      "----------\n",
      "\n",
      "Sentence 2:\n",
      "The business of her life was to get her\n",
      "daughters married; its solace was visiting and news.\n",
      "\n",
      "\n",
      "\n",
      "\n",
      "\n",
      "----------\n",
      "\n",
      "Sentence 3:\n",
      "Chapter 2\n",
      "\n",
      "\n",
      "Mr. Bennet was among the earliest of those who waited on Mr. Bingley.\n",
      "\n",
      "----------\n",
      "\n",
      "Sentence 4:\n",
      "He\n",
      "had always intended to visit him, though to the last always assuring\n",
      "his wife that he should not go; and till the evening after the visit was\n",
      "paid she had no knowledge of it.\n",
      "\n",
      "----------\n",
      "\n",
      "Sentence 5:\n",
      "It was then disclosed in the following\n",
      "manner.\n",
      "\n",
      "----------\n",
      "\n",
      "Sentence 6:\n",
      "Observing his second daughter employed in trimming a hat, he\n",
      "suddenly addressed her with:\n",
      "\n",
      "\n",
      "\n",
      "----------\n",
      "\n",
      "Sentence 7:\n",
      "\"I hope Mr. Bingley will like it, Lizzy.\n",
      "\n",
      "----------\n",
      "\n",
      "Sentence 8:\n",
      "\"\n",
      "\n",
      "\n",
      "\n",
      "----------\n",
      "\n",
      "Sentence 9:\n",
      "\"\n",
      "\n",
      "----------\n",
      "\n",
      "Sentence 10:\n",
      "We are not in a way to know\n",
      "\n",
      "----------\n",
      "\n"
     ]
    }
   ],
   "source": [
    "for i, sent in enumerate(islice(austen_text.sents, 100, 111)):\n",
    "    # Show sentences 100 to 111\n",
    "    print(\"Sentence {}:\".format(i))\n",
    "    print(sent)\n",
    "    print(\"\\n----------\\n\")"
   ]
  },
  {
   "cell_type": "markdown",
   "metadata": {},
   "source": [
    "We repeat the code from the previous section to select the most common noun phrases here:"
   ]
  },
  {
   "cell_type": "code",
   "execution_count": 29,
   "metadata": {},
   "outputs": [
    {
     "data": {
      "text/plain": [
       "<matplotlib.axes._subplots.AxesSubplot at 0x7f7721b2c4a8>"
      ]
     },
     "execution_count": 29,
     "metadata": {},
     "output_type": "execute_result"
    },
    {
     "data": {
      "image/png": "[encoded data removed]",
      "text/plain": [
       "<Figure size 432x288 with 1 Axes>"
      ]
     },
     "metadata": {
      "needs_background": "light"
     },
     "output_type": "display_data"
    }
   ],
   "source": [
    "def clean_text(text):\n",
    "    text = text.lower()\n",
    "    text = re.sub('[^a-z]', '', text)\n",
    "    return text\n",
    "\n",
    "# Get the noun phrases from austen_text\n",
    "noun_phrases = [chunk.text for chunk in austen_text.noun_chunks \\\n",
    "                    if not clean_text(chunk.text) in stop_words]\n",
    "\n",
    "# Plot the top 20 results as a bar chart\n",
    "(pd.Series(noun_phrases)\n",
    "     .value_counts()\n",
    "     .sort_values()\n",
    "     .tail(20)\n",
    "     .plot(kind = 'barh', \n",
    "           title = 'Top 20 common noun phrases in P & P Jane Austen')\n",
    ")"
   ]
  },
  {
   "cell_type": "markdown",
   "metadata": {},
   "source": [
    "We can also do the same as above with parts of speech. Below we plot the top 20 most common verbs in the text."
   ]
  },
  {
   "cell_type": "code",
   "execution_count": 30,
   "metadata": {},
   "outputs": [],
   "source": [
    "verbs = [token.lemma_ for token in austen_text \\\n",
    "                if token.pos_ == \"VERB\" and \\\n",
    "                not clean_text(token.text) in stop_words]\n",
    "\n",
    "# Add the bar chart here yourself:"
   ]
  },
  {
   "cell_type": "markdown",
   "metadata": {},
   "source": [
    "## Named entity recognition"
   ]
  },
  {
   "cell_type": "markdown",
   "metadata": {},
   "source": [
    "`spacy` can also identify entities contained in the text (this is called 'named entity recognition'). We plot the top 20 most common people in Pride and Prejudice below:"
   ]
  },
  {
   "cell_type": "code",
   "execution_count": 31,
   "metadata": {},
   "outputs": [
    {
     "data": {
      "text/plain": [
       "<matplotlib.axes._subplots.AxesSubplot at 0x7f77202f4be0>"
      ]
     },
     "execution_count": 31,
     "metadata": {},
     "output_type": "execute_result"
    },
    {
     "data": {
      "image/png": "[encoded data removed]",
      "text/plain": [
       "<Figure size 432x288 with 1 Axes>"
      ]
     },
     "metadata": {
      "needs_background": "light"
     },
     "output_type": "display_data"
    }
   ],
   "source": [
    "austen_ents = [ent.text for ent in austen_text.ents if ent.label_ == \"PERSON\"]\n",
    "\n",
    "(pd.Series(austen_ents)\n",
    "     .value_counts()\n",
    "     .sort_values()\n",
    "     .tail(20)\n",
    "     .plot(kind = 'barh', \n",
    "           title = 'Top 20 common entities in P & P Jane Austen')\n",
    ")"
   ]
  },
  {
   "cell_type": "code",
   "execution_count": 32,
   "metadata": {},
   "outputs": [
    {
     "name": "stdout",
     "output_type": "stream",
     "text": [
      "Elizabeth, Darcy, Bennet, Jane, Bingley, Wickham, Collins, Gardiner, Lizzy, Lady Catherine, Kitty, Longbourn, Lydia, Charlotte, Pemberley, Forster, Mary, William, Hurst, Fitzwilliam\n"
     ]
    }
   ],
   "source": [
    "# The list of the top 20 people mentioned in Pride and Prejudice\n",
    "entities = list(pd.Series(austen_ents)\n",
    "     .value_counts()\n",
    "     .sort_values(ascending = False)\n",
    "     .head(20)\n",
    "     .index\n",
    ")\n",
    "\n",
    "# Pretty print the list below\n",
    "print(\", \".join(entities))"
   ]
  },
  {
   "cell_type": "markdown",
   "metadata": {},
   "source": [
    "## Extracting the common co-occuring characters in Pride and Prejudice\n",
    "\n",
    "The goal of this section is to discover and visualise the number of times each of the top 20 characters are mentioned together in a sentence in the original text. \n",
    "\n",
    "We will do this by assembling a `numpy` array into a table of results containing the counts of the number of times each pair of characters co-occurs in the any sentence of the original text."
   ]
  },
  {
   "cell_type": "code",
   "execution_count": 33,
   "metadata": {},
   "outputs": [],
   "source": [
    "import numpy as np"
   ]
  },
  {
   "cell_type": "code",
   "execution_count": 34,
   "metadata": {},
   "outputs": [
    {
     "data": {
      "text/plain": [
       "array([[1, 2, 3],\n",
       "       [4, 5, 6],\n",
       "       [7, 8, 9]])"
      ]
     },
     "execution_count": 34,
     "metadata": {},
     "output_type": "execute_result"
    }
   ],
   "source": [
    "# We use numpy arrays to store rectangular numeric data\n",
    "np.array([[1,2,3], [4,5,6], [7,8,9]])"
   ]
  },
  {
   "cell_type": "markdown",
   "metadata": {},
   "source": [
    "### A simple example"
   ]
  },
  {
   "cell_type": "markdown",
   "metadata": {},
   "source": [
    "As always, we begin with a simple example. Given just one sentence, we want to extract the list of all pairs of characters who have occurred in the sentence. We work towards achieving this below, then generalise the code into something we can repeat over the whole dataset."
   ]
  },
  {
   "cell_type": "code",
   "execution_count": 35,
   "metadata": {},
   "outputs": [
    {
     "name": "stdout",
     "output_type": "stream",
     "text": [
      "Mr. Darcy stood near Charlotte in silent indignation at such a mode of\n",
      "passing the evening, to the exclusion of Hurst, and was too\n",
      "much engrossed by his thoughts to perceive that Sir William Lucas was\n",
      "his neighbour, till Sir William thus began:\n",
      "\n",
      "\"What a charming amusement for young people this is, Mr. Darcy!\n"
     ]
    }
   ],
   "source": [
    "# This is our sentence:\n",
    "ent_text = '''Mr. Darcy stood near Charlotte in silent indignation at such a mode of\n",
    "passing the evening, to the exclusion of Hurst, and was too\n",
    "much engrossed by his thoughts to perceive that Sir William Lucas was\n",
    "his neighbour, till Sir William thus began:\n",
    "\n",
    "\"What a charming amusement for young people this is, Mr. Darcy!'''\n",
    "\n",
    "print(ent_text)"
   ]
  },
  {
   "cell_type": "markdown",
   "metadata": {},
   "source": [
    "First, we want to find the entities from our top 20 list who occur in `ent_text`."
   ]
  },
  {
   "cell_type": "code",
   "execution_count": 36,
   "metadata": {},
   "outputs": [
    {
     "name": "stdout",
     "output_type": "stream",
     "text": [
      "We found the entities: Darcy, Charlotte, William, Hurst\n"
     ]
    }
   ],
   "source": [
    "matched_entities = [ent for ent in entities if ent in ent_text]\n",
    "print(\"We found the entities: {}\".format(\", \".join(matched_entities)))"
   ]
  },
  {
   "cell_type": "markdown",
   "metadata": {},
   "source": [
    "Next, now that we know which entities are in the sentence, we need to generate the possible pairs of characters from this list so we can count them all correctly. To do this we use the helper function `product` from the `itertools` package."
   ]
  },
  {
   "cell_type": "code",
   "execution_count": 37,
   "metadata": {},
   "outputs": [
    {
     "data": {
      "text/plain": [
       "[('a', 'a'),\n",
       " ('a', 'b'),\n",
       " ('a', 'c'),\n",
       " ('b', 'a'),\n",
       " ('b', 'b'),\n",
       " ('b', 'c'),\n",
       " ('c', 'a'),\n",
       " ('c', 'b'),\n",
       " ('c', 'c')]"
      ]
     },
     "execution_count": 37,
     "metadata": {},
     "output_type": "execute_result"
    }
   ],
   "source": [
    "# This is a helper function for generating all possible pairs from a given list\n",
    "from itertools import product\n",
    "\n",
    "# This is a simple example of how it works:\n",
    "list(product('abc', repeat = 2))"
   ]
  },
  {
   "cell_type": "markdown",
   "metadata": {},
   "source": [
    "Next we create a generator to give us all of the pairs of characters in a given sentence. This function is called a generator because it uses the `yield` keyword, which means that it returns an 'iterable', which can be iterated on using a for loop just like a list."
   ]
  },
  {
   "cell_type": "code",
   "execution_count": 55,
   "metadata": {},
   "outputs": [],
   "source": [
    "def count_entity_pairs(text, entities):\n",
    "    matched_entities = [ent for ent in entities if ent in text]\n",
    "    for ent1, ent2 in product(matched_entities, repeat = 2):\n",
    "        yield ent1, ent2"
   ]
  },
  {
   "cell_type": "markdown",
   "metadata": {},
   "source": [
    "Below is an example of the output from the `count_entity_pairs` function. Generators do not return a value on their own, so you have to wrap it in `list()` in order to see the values first."
   ]
  },
  {
   "cell_type": "code",
   "execution_count": 60,
   "metadata": {},
   "outputs": [
    {
     "data": {
      "text/plain": [
       "<generator object count_entity_pairs at 0x7f7720034e08>"
      ]
     },
     "execution_count": 60,
     "metadata": {},
     "output_type": "execute_result"
    }
   ],
   "source": [
    "# Can't see me\n",
    "count_entity_pairs(\"Darcy and Elizabeth met Bingley\", entities)"
   ]
  },
  {
   "cell_type": "code",
   "execution_count": 61,
   "metadata": {},
   "outputs": [
    {
     "data": {
      "text/plain": [
       "[('Elizabeth', 'Elizabeth'),\n",
       " ('Elizabeth', 'Darcy'),\n",
       " ('Elizabeth', 'Bingley'),\n",
       " ('Darcy', 'Elizabeth'),\n",
       " ('Darcy', 'Darcy'),\n",
       " ('Darcy', 'Bingley'),\n",
       " ('Bingley', 'Elizabeth'),\n",
       " ('Bingley', 'Darcy'),\n",
       " ('Bingley', 'Bingley')]"
      ]
     },
     "execution_count": 61,
     "metadata": {},
     "output_type": "execute_result"
    }
   ],
   "source": [
    "# Can see me\n",
    "list(count_entity_pairs(\"Darcy and Elizabeth met Bingley\", entities))"
   ]
  },
  {
   "cell_type": "markdown",
   "metadata": {},
   "source": [
    "One more thing we need to do is index the names of the characters, so we know how to address them in the numpy array. We do this below:"
   ]
  },
  {
   "cell_type": "code",
   "execution_count": 62,
   "metadata": {},
   "outputs": [
    {
     "data": {
      "text/plain": [
       "{'Elizabeth': 0,\n",
       " 'Darcy': 1,\n",
       " 'Bennet': 2,\n",
       " 'Jane': 3,\n",
       " 'Bingley': 4,\n",
       " 'Wickham': 5,\n",
       " 'Collins': 6,\n",
       " 'Gardiner': 7,\n",
       " 'Lizzy': 8,\n",
       " 'Lady Catherine': 9,\n",
       " 'Kitty': 10,\n",
       " 'Longbourn': 11,\n",
       " 'Lydia': 12,\n",
       " 'Charlotte': 13,\n",
       " 'Pemberley': 14,\n",
       " 'Forster': 15,\n",
       " 'Mary': 16,\n",
       " 'William': 17,\n",
       " 'Hurst': 18,\n",
       " 'Fitzwilliam': 19}"
      ]
     },
     "execution_count": 62,
     "metadata": {},
     "output_type": "execute_result"
    }
   ],
   "source": [
    "entity_dict = {ent: i for i, ent in enumerate(entities)}\n",
    "entity_dict"
   ]
  },
  {
   "cell_type": "markdown",
   "metadata": {},
   "source": [
    "Now we are ready to create the numpy array we are going to use to store the data. We initialise the array with all zeros, so it's ready for us to start counting.\n",
    "\n",
    "`numpy` arrays have a `shape`, which in this case is the number of rows and columns in the array. For this work we want the number of rows and columns to equal the number of entities we're matching."
   ]
  },
  {
   "cell_type": "code",
   "execution_count": 47,
   "metadata": {},
   "outputs": [
    {
     "name": "stdout",
     "output_type": "stream",
     "text": [
      "ent_array.shape: (20, 20)\n"
     ]
    }
   ],
   "source": [
    "# This is where we're gonna store the data\n",
    "ent_array = np.zeros((len(entities), len(entities)))\n",
    "print(\"ent_array.shape:\", ent_array.shape)"
   ]
  },
  {
   "cell_type": "markdown",
   "metadata": {},
   "source": [
    "Now we are ready to do the counting.\n",
    "\n",
    "For each sentence in `austen_text`:\n",
    "- If any of the entities are mentioned in that sentence\n",
    "- We extract all of the entities in the sentence and arrange them into pairs (`ent1`, `ent2`)\n",
    "- Then we increase the corresponding array entry for that pair by one"
   ]
  },
  {
   "cell_type": "code",
   "execution_count": 48,
   "metadata": {},
   "outputs": [],
   "source": [
    "for sent in austen_text.sents:\n",
    "    if any(ent in sent.text for ent in entities):\n",
    "        # At least one of the top 20 entities are in the sentence\n",
    "        for ent1, ent2 in count_entity_pairs(sent.text, entities):\n",
    "            # Increment ent_array at the entry corresponding to the pair (ent1, ent2)\n",
    "            ent_array[entity_dict[ent1], entity_dict[ent2]] += 1"
   ]
  },
  {
   "cell_type": "markdown",
   "metadata": {},
   "source": [
    "Now that we have set up the data array we wanted, we can visualise it below using `matplotlib`."
   ]
  },
  {
   "cell_type": "code",
   "execution_count": 49,
   "metadata": {},
   "outputs": [],
   "source": [
    "import matplotlib.pyplot as plt"
   ]
  },
  {
   "cell_type": "code",
   "execution_count": 63,
   "metadata": {},
   "outputs": [
    {
     "name": "stdout",
     "output_type": "stream",
     "text": [
      "\n"
     ]
    },
    {
     "data": {
      "image/png": "[encoded data removed]",
      "text/plain": [
       "<Figure size 720x720 with 2 Axes>"
      ]
     },
     "metadata": {
      "needs_background": "light"
     },
     "output_type": "display_data"
    }
   ],
   "source": [
    "# Understanding matplotlib code not compulsory :P\n",
    "\n",
    "fig = plt.figure(figsize=(10,10))\n",
    "ax = fig.add_subplot(111)\n",
    "cax = ax.matshow(ent_array, interpolation='nearest')\n",
    "fig.colorbar(cax)\n",
    "\n",
    "plt.xticks(np.arange(len(entities)), entities, rotation='vertical')\n",
    "ax.set_yticks(np.arange(len(entities)))\n",
    "ax.set_yticklabels(entities)\n",
    "\n",
    "print()"
   ]
  },
  {
   "cell_type": "markdown",
   "metadata": {},
   "source": [
    "One more thing you can do is rescale the array before you plot it, so the darker colours show more easily. We do this below:"
   ]
  },
  {
   "cell_type": "code",
   "execution_count": 64,
   "metadata": {},
   "outputs": [
    {
     "name": "stdout",
     "output_type": "stream",
     "text": [
      "\n"
     ]
    },
    {
     "data": {
      "image/png": "[encoded data removed]",
      "text/plain": [
       "<Figure size 720x720 with 2 Axes>"
      ]
     },
     "metadata": {
      "needs_background": "light"
     },
     "output_type": "display_data"
    }
   ],
   "source": [
    "scaled_array = np.log(ent_array + 1)\n",
    "\n",
    "fig = plt.figure(figsize=(10,10))\n",
    "ax = fig.add_subplot(111)\n",
    "cax = ax.matshow(scaled_array, interpolation='nearest')\n",
    "fig.colorbar(cax)\n",
    "\n",
    "plt.xticks(np.arange(len(entities)), entities, rotation='vertical')\n",
    "ax.set_yticks(np.arange(len(entities)))\n",
    "ax.set_yticklabels(entities)\n",
    "\n",
    "print()"
   ]
  },
  {
   "cell_type": "markdown",
   "metadata": {},
   "source": [
    "Unfortunately, you can see there isn't much signal in the smaller values. The plot is mostly random now, so probably the non-scaled version is better because while you can see less, at least you can (barely) see the stuff that matters."
   ]
  }
 ],
 "metadata": {
  "kernelspec": {
   "display_name": "Python 3",
   "language": "python",
   "name": "python3"
  },
  "language_info": {
   "codemirror_mode": {
    "name": "ipython",
    "version": 3
   },
   "file_extension": ".py",
   "mimetype": "text/x-python",
   "name": "python",
   "nbconvert_exporter": "python",
   "pygments_lexer": "ipython3",
   "version": "3.6.8"
  }
 },
 "nbformat": 4,
 "nbformat_minor": 4
}
